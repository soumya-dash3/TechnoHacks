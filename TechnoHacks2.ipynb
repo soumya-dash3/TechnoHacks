{
 "cells": [
  {
   "cell_type": "markdown",
   "id": "cede12fc",
   "metadata": {},
   "source": [
    "test.csv"
   ]
  },
  {
   "cell_type": "markdown",
   "id": "bff150fc",
   "metadata": {},
   "source": [
    "1.Cleaning the dataset by removing missing values and outliers."
   ]
  },
  {
   "cell_type": "code",
   "execution_count": 1,
   "id": "63110831",
   "metadata": {},
   "outputs": [],
   "source": [
    "import pandas as pd"
   ]
  },
  {
   "cell_type": "code",
   "execution_count": 2,
   "id": "6cf48cea",
   "metadata": {},
   "outputs": [],
   "source": [
    "file_path = r\"C:\\Users\\soumy\\Downloads\\DA_Titanic_Data\\test.csv\""
   ]
  },
  {
   "cell_type": "code",
   "execution_count": 3,
   "id": "00e3b15b",
   "metadata": {},
   "outputs": [],
   "source": [
    "df = pd.read_csv(r\"C:\\Users\\soumy\\Downloads\\DA_Titanic_Data\\test.csv\")"
   ]
  },
  {
   "cell_type": "code",
   "execution_count": 4,
   "id": "b8ceb8d1",
   "metadata": {},
   "outputs": [
    {
     "data": {
      "text/html": [
       "<div>\n",
       "<style scoped>\n",
       "    .dataframe tbody tr th:only-of-type {\n",
       "        vertical-align: middle;\n",
       "    }\n",
       "\n",
       "    .dataframe tbody tr th {\n",
       "        vertical-align: top;\n",
       "    }\n",
       "\n",
       "    .dataframe thead th {\n",
       "        text-align: right;\n",
       "    }\n",
       "</style>\n",
       "<table border=\"1\" class=\"dataframe\">\n",
       "  <thead>\n",
       "    <tr style=\"text-align: right;\">\n",
       "      <th></th>\n",
       "      <th>PassengerId</th>\n",
       "      <th>Pclass</th>\n",
       "      <th>Name</th>\n",
       "      <th>Sex</th>\n",
       "      <th>Age</th>\n",
       "      <th>SibSp</th>\n",
       "      <th>Parch</th>\n",
       "      <th>Ticket</th>\n",
       "      <th>Fare</th>\n",
       "      <th>Cabin</th>\n",
       "      <th>Embarked</th>\n",
       "    </tr>\n",
       "  </thead>\n",
       "  <tbody>\n",
       "    <tr>\n",
       "      <th>0</th>\n",
       "      <td>892</td>\n",
       "      <td>3</td>\n",
       "      <td>Kelly, Mr. James</td>\n",
       "      <td>male</td>\n",
       "      <td>34.5</td>\n",
       "      <td>0</td>\n",
       "      <td>0</td>\n",
       "      <td>330911</td>\n",
       "      <td>7.8292</td>\n",
       "      <td>NaN</td>\n",
       "      <td>Q</td>\n",
       "    </tr>\n",
       "    <tr>\n",
       "      <th>1</th>\n",
       "      <td>893</td>\n",
       "      <td>3</td>\n",
       "      <td>Wilkes, Mrs. James (Ellen Needs)</td>\n",
       "      <td>female</td>\n",
       "      <td>47.0</td>\n",
       "      <td>1</td>\n",
       "      <td>0</td>\n",
       "      <td>363272</td>\n",
       "      <td>7.0000</td>\n",
       "      <td>NaN</td>\n",
       "      <td>S</td>\n",
       "    </tr>\n",
       "    <tr>\n",
       "      <th>2</th>\n",
       "      <td>894</td>\n",
       "      <td>2</td>\n",
       "      <td>Myles, Mr. Thomas Francis</td>\n",
       "      <td>male</td>\n",
       "      <td>62.0</td>\n",
       "      <td>0</td>\n",
       "      <td>0</td>\n",
       "      <td>240276</td>\n",
       "      <td>9.6875</td>\n",
       "      <td>NaN</td>\n",
       "      <td>Q</td>\n",
       "    </tr>\n",
       "    <tr>\n",
       "      <th>3</th>\n",
       "      <td>895</td>\n",
       "      <td>3</td>\n",
       "      <td>Wirz, Mr. Albert</td>\n",
       "      <td>male</td>\n",
       "      <td>27.0</td>\n",
       "      <td>0</td>\n",
       "      <td>0</td>\n",
       "      <td>315154</td>\n",
       "      <td>8.6625</td>\n",
       "      <td>NaN</td>\n",
       "      <td>S</td>\n",
       "    </tr>\n",
       "    <tr>\n",
       "      <th>4</th>\n",
       "      <td>896</td>\n",
       "      <td>3</td>\n",
       "      <td>Hirvonen, Mrs. Alexander (Helga E Lindqvist)</td>\n",
       "      <td>female</td>\n",
       "      <td>22.0</td>\n",
       "      <td>1</td>\n",
       "      <td>1</td>\n",
       "      <td>3101298</td>\n",
       "      <td>12.2875</td>\n",
       "      <td>NaN</td>\n",
       "      <td>S</td>\n",
       "    </tr>\n",
       "    <tr>\n",
       "      <th>...</th>\n",
       "      <td>...</td>\n",
       "      <td>...</td>\n",
       "      <td>...</td>\n",
       "      <td>...</td>\n",
       "      <td>...</td>\n",
       "      <td>...</td>\n",
       "      <td>...</td>\n",
       "      <td>...</td>\n",
       "      <td>...</td>\n",
       "      <td>...</td>\n",
       "      <td>...</td>\n",
       "    </tr>\n",
       "    <tr>\n",
       "      <th>413</th>\n",
       "      <td>1305</td>\n",
       "      <td>3</td>\n",
       "      <td>Spector, Mr. Woolf</td>\n",
       "      <td>male</td>\n",
       "      <td>NaN</td>\n",
       "      <td>0</td>\n",
       "      <td>0</td>\n",
       "      <td>A.5. 3236</td>\n",
       "      <td>8.0500</td>\n",
       "      <td>NaN</td>\n",
       "      <td>S</td>\n",
       "    </tr>\n",
       "    <tr>\n",
       "      <th>414</th>\n",
       "      <td>1306</td>\n",
       "      <td>1</td>\n",
       "      <td>Oliva y Ocana, Dona. Fermina</td>\n",
       "      <td>female</td>\n",
       "      <td>39.0</td>\n",
       "      <td>0</td>\n",
       "      <td>0</td>\n",
       "      <td>PC 17758</td>\n",
       "      <td>108.9000</td>\n",
       "      <td>C105</td>\n",
       "      <td>C</td>\n",
       "    </tr>\n",
       "    <tr>\n",
       "      <th>415</th>\n",
       "      <td>1307</td>\n",
       "      <td>3</td>\n",
       "      <td>Saether, Mr. Simon Sivertsen</td>\n",
       "      <td>male</td>\n",
       "      <td>38.5</td>\n",
       "      <td>0</td>\n",
       "      <td>0</td>\n",
       "      <td>SOTON/O.Q. 3101262</td>\n",
       "      <td>7.2500</td>\n",
       "      <td>NaN</td>\n",
       "      <td>S</td>\n",
       "    </tr>\n",
       "    <tr>\n",
       "      <th>416</th>\n",
       "      <td>1308</td>\n",
       "      <td>3</td>\n",
       "      <td>Ware, Mr. Frederick</td>\n",
       "      <td>male</td>\n",
       "      <td>NaN</td>\n",
       "      <td>0</td>\n",
       "      <td>0</td>\n",
       "      <td>359309</td>\n",
       "      <td>8.0500</td>\n",
       "      <td>NaN</td>\n",
       "      <td>S</td>\n",
       "    </tr>\n",
       "    <tr>\n",
       "      <th>417</th>\n",
       "      <td>1309</td>\n",
       "      <td>3</td>\n",
       "      <td>Peter, Master. Michael J</td>\n",
       "      <td>male</td>\n",
       "      <td>NaN</td>\n",
       "      <td>1</td>\n",
       "      <td>1</td>\n",
       "      <td>2668</td>\n",
       "      <td>22.3583</td>\n",
       "      <td>NaN</td>\n",
       "      <td>C</td>\n",
       "    </tr>\n",
       "  </tbody>\n",
       "</table>\n",
       "<p>418 rows × 11 columns</p>\n",
       "</div>"
      ],
      "text/plain": [
       "     PassengerId  Pclass                                          Name  \\\n",
       "0            892       3                              Kelly, Mr. James   \n",
       "1            893       3              Wilkes, Mrs. James (Ellen Needs)   \n",
       "2            894       2                     Myles, Mr. Thomas Francis   \n",
       "3            895       3                              Wirz, Mr. Albert   \n",
       "4            896       3  Hirvonen, Mrs. Alexander (Helga E Lindqvist)   \n",
       "..           ...     ...                                           ...   \n",
       "413         1305       3                            Spector, Mr. Woolf   \n",
       "414         1306       1                  Oliva y Ocana, Dona. Fermina   \n",
       "415         1307       3                  Saether, Mr. Simon Sivertsen   \n",
       "416         1308       3                           Ware, Mr. Frederick   \n",
       "417         1309       3                      Peter, Master. Michael J   \n",
       "\n",
       "        Sex   Age  SibSp  Parch              Ticket      Fare Cabin Embarked  \n",
       "0      male  34.5      0      0              330911    7.8292   NaN        Q  \n",
       "1    female  47.0      1      0              363272    7.0000   NaN        S  \n",
       "2      male  62.0      0      0              240276    9.6875   NaN        Q  \n",
       "3      male  27.0      0      0              315154    8.6625   NaN        S  \n",
       "4    female  22.0      1      1             3101298   12.2875   NaN        S  \n",
       "..      ...   ...    ...    ...                 ...       ...   ...      ...  \n",
       "413    male   NaN      0      0           A.5. 3236    8.0500   NaN        S  \n",
       "414  female  39.0      0      0            PC 17758  108.9000  C105        C  \n",
       "415    male  38.5      0      0  SOTON/O.Q. 3101262    7.2500   NaN        S  \n",
       "416    male   NaN      0      0              359309    8.0500   NaN        S  \n",
       "417    male   NaN      1      1                2668   22.3583   NaN        C  \n",
       "\n",
       "[418 rows x 11 columns]"
      ]
     },
     "execution_count": 4,
     "metadata": {},
     "output_type": "execute_result"
    }
   ],
   "source": [
    "df"
   ]
  },
  {
   "cell_type": "code",
   "execution_count": 5,
   "id": "7d6d2953",
   "metadata": {},
   "outputs": [],
   "source": [
    "missing_values = df.isna()"
   ]
  },
  {
   "cell_type": "code",
   "execution_count": 6,
   "id": "49b2a839",
   "metadata": {},
   "outputs": [],
   "source": [
    "df_cleaned = df.dropna()\n",
    "#rows"
   ]
  },
  {
   "cell_type": "code",
   "execution_count": 7,
   "id": "f29c9919",
   "metadata": {},
   "outputs": [],
   "source": [
    "df_cleaned = df.dropna(axis=1)\n",
    "#columns"
   ]
  },
  {
   "cell_type": "code",
   "execution_count": 15,
   "id": "efd0d531",
   "metadata": {},
   "outputs": [],
   "source": [
    "import pandas as pd\n",
    "\n",
    "# Define a function to remove outliers using the IQR method\n",
    "def remove_outliers_iqr(data, columns):\n",
    "    data_cleaned = data.copy()  # Create a copy of the original data\n",
    "    for column in columns:\n",
    "        Q1 = data_cleaned[column].quantile(0.25)\n",
    "        Q3 = data_cleaned[column].quantile(0.75)\n",
    "        IQR = Q3 - Q1\n",
    "        lower_bound = Q1 - 1.5 * IQR\n",
    "        upper_bound = Q3 + 1.5 * IQR\n",
    "        data_cleaned = data_cleaned[(data_cleaned[column] >= lower_bound) & (data_cleaned[column] <= upper_bound)]\n",
    "    return data_cleaned\n",
    "\n",
    "# Read your dataset into a pandas DataFrame\n",
    "df = pd.read_csv(r'C:\\Users\\soumy\\Downloads\\DA_Titanic_Data\\test.csv')\n",
    "\n",
    "# Specify the numerical columns for which you want to remove outliers\n",
    "numerical_columns = ['Age', 'Fare']  # Add all your numerical columns\n",
    "\n",
    "# Call the function to remove outliers\n",
    "df_cleaned = remove_outliers_iqr(df, numerical_columns)\n",
    "\n",
    "# The df_cleaned DataFrame now contains your data with outliers removed\n"
   ]
  },
  {
   "cell_type": "markdown",
   "id": "db96f6b2",
   "metadata": {},
   "source": [
    "2.Calculating summary statistics for the  dataset"
   ]
  },
  {
   "cell_type": "code",
   "execution_count": 23,
   "id": "4b8ca98a",
   "metadata": {},
   "outputs": [],
   "source": [
    "means = df_cleaned.mean(numeric_only=True)"
   ]
  },
  {
   "cell_type": "code",
   "execution_count": 26,
   "id": "17034201",
   "metadata": {},
   "outputs": [],
   "source": [
    "medians = df_cleaned.median(numeric_only=True)"
   ]
  },
  {
   "cell_type": "code",
   "execution_count": 27,
   "id": "11cf840f",
   "metadata": {},
   "outputs": [],
   "source": [
    "modes = df_cleaned.mode(numeric_only=True)"
   ]
  },
  {
   "cell_type": "code",
   "execution_count": 35,
   "id": "e6b1756e",
   "metadata": {},
   "outputs": [],
   "source": [
    "std_devs = df_cleaned.std(numeric_only=True)"
   ]
  },
  {
   "cell_type": "code",
   "execution_count": 29,
   "id": "89f16968",
   "metadata": {},
   "outputs": [
    {
     "name": "stdout",
     "output_type": "stream",
     "text": [
      "Mean:\n",
      "PassengerId    1098.337838\n",
      "Pclass            2.277027\n",
      "Age              28.805743\n",
      "SibSp             0.459459\n",
      "Parch             0.361486\n",
      "Fare             23.155152\n",
      "dtype: float64\n",
      "\n",
      "Median:\n",
      "PassengerId    1098.50000\n",
      "Pclass            2.00000\n",
      "Age              26.00000\n",
      "SibSp             0.00000\n",
      "Parch             0.00000\n",
      "Fare             13.88125\n",
      "dtype: float64\n",
      "\n",
      "Mode:\n",
      "     PassengerId  Pclass   Age  SibSp  Parch  Fare\n",
      "0            892     3.0  21.0    0.0    0.0  26.0\n",
      "1            893     NaN  24.0    NaN    NaN   NaN\n",
      "2            894     NaN   NaN    NaN    NaN   NaN\n",
      "3            895     NaN   NaN    NaN    NaN   NaN\n",
      "4            896     NaN   NaN    NaN    NaN   NaN\n",
      "..           ...     ...   ...    ...    ...   ...\n",
      "291         1297     NaN   NaN    NaN    NaN   NaN\n",
      "292         1298     NaN   NaN    NaN    NaN   NaN\n",
      "293         1301     NaN   NaN    NaN    NaN   NaN\n",
      "294         1304     NaN   NaN    NaN    NaN   NaN\n",
      "295         1307     NaN   NaN    NaN    NaN   NaN\n",
      "\n",
      "[296 rows x 6 columns]\n",
      "\n",
      "Standard Deviation:\n"
     ]
    },
    {
     "ename": "NameError",
     "evalue": "name 'std_devs' is not defined",
     "output_type": "error",
     "traceback": [
      "\u001b[1;31m---------------------------------------------------------------------------\u001b[0m",
      "\u001b[1;31mNameError\u001b[0m                                 Traceback (most recent call last)",
      "\u001b[1;32m~\\AppData\\Local\\Temp\\ipykernel_42856\\944904805.py\u001b[0m in \u001b[0;36m<module>\u001b[1;34m\u001b[0m\n\u001b[0;32m      9\u001b[0m \u001b[1;33m\u001b[0m\u001b[0m\n\u001b[0;32m     10\u001b[0m \u001b[0mprint\u001b[0m\u001b[1;33m(\u001b[0m\u001b[1;34m\"\\nStandard Deviation:\"\u001b[0m\u001b[1;33m)\u001b[0m\u001b[1;33m\u001b[0m\u001b[1;33m\u001b[0m\u001b[0m\n\u001b[1;32m---> 11\u001b[1;33m \u001b[0mprint\u001b[0m\u001b[1;33m(\u001b[0m\u001b[0mstd_devs\u001b[0m\u001b[1;33m)\u001b[0m\u001b[1;33m\u001b[0m\u001b[1;33m\u001b[0m\u001b[0m\n\u001b[0m",
      "\u001b[1;31mNameError\u001b[0m: name 'std_devs' is not defined"
     ]
    }
   ],
   "source": [
    "print(\"Mean:\")\n",
    "print(means)\n",
    "\n",
    "print(\"\\nMedian:\")\n",
    "print(medians)\n",
    "\n",
    "print(\"\\nMode:\")\n",
    "print(modes)\n",
    "\n",
    "print(\"\\nStandard Deviation:\")\n",
    "print(std_devs)\n"
   ]
  },
  {
   "cell_type": "code",
   "execution_count": 30,
   "id": "e734eef4",
   "metadata": {},
   "outputs": [],
   "source": [
    "import matplotlib.pyplot as plt\n",
    "import pandas as pd"
   ]
  },
  {
   "cell_type": "code",
   "execution_count": 33,
   "id": "25942fa2",
   "metadata": {},
   "outputs": [
    {
     "data": {
      "image/png": "[encoded data removed]",
      "text/plain": [
       "<Figure size 800x600 with 1 Axes>"
      ]
     },
     "metadata": {},
     "output_type": "display_data"
    },
    {
     "data": {
      "image/png": "[encoded data removed]",
      "text/plain": [
       "<Figure size 800x600 with 1 Axes>"
      ]
     },
     "metadata": {},
     "output_type": "display_data"
    }
   ],
   "source": [
    "import pandas as pd\n",
    "import matplotlib.pyplot as plt\n",
    "\n",
    "# Read your dataset into a pandas DataFrame\n",
    "df = pd.read_csv(r'C:\\Users\\soumy\\Downloads\\DA_Titanic_Data\\test.csv')\n",
    "\n",
    "# Specify the numerical columns for which you want to create histograms\n",
    "numerical_columns = ['Age', 'Fare']  # Add all your numerical columns\n",
    "\n",
    "# Set the number of bins for the histograms (you can adjust this as needed)\n",
    "num_bins = 20\n",
    "\n",
    "# Create a loop to plot histograms for each numerical column\n",
    "for column in numerical_columns:\n",
    "    plt.figure(figsize=(8, 6))  # Set the figure size\n",
    "    plt.hist(df[column], bins=num_bins, edgecolor='k')  # Plot the histogram\n",
    "    plt.title(f'Histogram of {column}')  # Set the title\n",
    "    plt.xlabel(column)  # Set the x-axis label\n",
    "    plt.ylabel('Frequency')  # Set the y-axis label\n",
    "    plt.grid(axis='y', alpha=0.75)  # Add grid lines\n",
    "    plt.show()  # Show the histogram plot\n"
   ]
  },
  {
   "cell_type": "code",
   "execution_count": null,
   "id": "b293d250",
   "metadata": {},
   "outputs": [],
   "source": []
  }
 ],
 "metadata": {
  "kernelspec": {
   "display_name": "Python 3 (ipykernel)",
   "language": "python",
   "name": "python3"
  },
  "language_info": {
   "codemirror_mode": {
    "name": "ipython",
    "version": 3
   },
   "file_extension": ".py",
   "mimetype": "text/x-python",
   "name": "python",
   "nbconvert_exporter": "python",
   "pygments_lexer": "ipython3",
   "version": "3.9.13"
  }
 },
 "nbformat": 4,
 "nbformat_minor": 5
}
