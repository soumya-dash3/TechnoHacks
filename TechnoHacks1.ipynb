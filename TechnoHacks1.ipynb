{
 "cells": [
  {
   "cell_type": "markdown",
   "id": "4f212cc9",
   "metadata": {},
   "source": [
    "Gender_submission csv"
   ]
  },
  {
   "cell_type": "markdown",
   "id": "8a5522a1",
   "metadata": {},
   "source": [
    "1.Cleaning the dataset by removing missing values and outliers."
   ]
  },
  {
   "cell_type": "code",
   "execution_count": 1,
   "id": "4ca7e30d",
   "metadata": {},
   "outputs": [],
   "source": [
    "import pandas as pd"
   ]
  },
  {
   "cell_type": "code",
   "execution_count": 14,
   "id": "fa60ee03",
   "metadata": {},
   "outputs": [],
   "source": [
    "file_path = r\"C:\\Users\\soumy\\Downloads\\DA_Titanic_Data\\gender_submission.csv\""
   ]
  },
  {
   "cell_type": "code",
   "execution_count": 15,
   "id": "41e227aa",
   "metadata": {},
   "outputs": [],
   "source": [
    "df = pd.read_csv(r\"C:\\Users\\soumy\\Downloads\\DA_Titanic_Data\\gender_submission.csv\")"
   ]
  },
  {
   "cell_type": "code",
   "execution_count": 16,
   "id": "ae2017d0",
   "metadata": {},
   "outputs": [
    {
     "data": {
      "text/html": [
       "<div>\n",
       "<style scoped>\n",
       "    .dataframe tbody tr th:only-of-type {\n",
       "        vertical-align: middle;\n",
       "    }\n",
       "\n",
       "    .dataframe tbody tr th {\n",
       "        vertical-align: top;\n",
       "    }\n",
       "\n",
       "    .dataframe thead th {\n",
       "        text-align: right;\n",
       "    }\n",
       "</style>\n",
       "<table border=\"1\" class=\"dataframe\">\n",
       "  <thead>\n",
       "    <tr style=\"text-align: right;\">\n",
       "      <th></th>\n",
       "      <th>PassengerId</th>\n",
       "      <th>Survived</th>\n",
       "    </tr>\n",
       "  </thead>\n",
       "  <tbody>\n",
       "    <tr>\n",
       "      <th>0</th>\n",
       "      <td>892</td>\n",
       "      <td>0</td>\n",
       "    </tr>\n",
       "    <tr>\n",
       "      <th>1</th>\n",
       "      <td>893</td>\n",
       "      <td>1</td>\n",
       "    </tr>\n",
       "    <tr>\n",
       "      <th>2</th>\n",
       "      <td>894</td>\n",
       "      <td>0</td>\n",
       "    </tr>\n",
       "    <tr>\n",
       "      <th>3</th>\n",
       "      <td>895</td>\n",
       "      <td>0</td>\n",
       "    </tr>\n",
       "    <tr>\n",
       "      <th>4</th>\n",
       "      <td>896</td>\n",
       "      <td>1</td>\n",
       "    </tr>\n",
       "    <tr>\n",
       "      <th>...</th>\n",
       "      <td>...</td>\n",
       "      <td>...</td>\n",
       "    </tr>\n",
       "    <tr>\n",
       "      <th>413</th>\n",
       "      <td>1305</td>\n",
       "      <td>0</td>\n",
       "    </tr>\n",
       "    <tr>\n",
       "      <th>414</th>\n",
       "      <td>1306</td>\n",
       "      <td>1</td>\n",
       "    </tr>\n",
       "    <tr>\n",
       "      <th>415</th>\n",
       "      <td>1307</td>\n",
       "      <td>0</td>\n",
       "    </tr>\n",
       "    <tr>\n",
       "      <th>416</th>\n",
       "      <td>1308</td>\n",
       "      <td>0</td>\n",
       "    </tr>\n",
       "    <tr>\n",
       "      <th>417</th>\n",
       "      <td>1309</td>\n",
       "      <td>0</td>\n",
       "    </tr>\n",
       "  </tbody>\n",
       "</table>\n",
       "<p>418 rows × 2 columns</p>\n",
       "</div>"
      ],
      "text/plain": [
       "     PassengerId  Survived\n",
       "0            892         0\n",
       "1            893         1\n",
       "2            894         0\n",
       "3            895         0\n",
       "4            896         1\n",
       "..           ...       ...\n",
       "413         1305         0\n",
       "414         1306         1\n",
       "415         1307         0\n",
       "416         1308         0\n",
       "417         1309         0\n",
       "\n",
       "[418 rows x 2 columns]"
      ]
     },
     "execution_count": 16,
     "metadata": {},
     "output_type": "execute_result"
    }
   ],
   "source": [
    "df"
   ]
  },
  {
   "cell_type": "code",
   "execution_count": 17,
   "id": "b590151f",
   "metadata": {},
   "outputs": [],
   "source": [
    "missing_values = df.isna()"
   ]
  },
  {
   "cell_type": "code",
   "execution_count": 18,
   "id": "2ff63c72",
   "metadata": {},
   "outputs": [],
   "source": [
    "df_cleaned = df.dropna()\n",
    "#rows"
   ]
  },
  {
   "cell_type": "code",
   "execution_count": 19,
   "id": "09184c14",
   "metadata": {},
   "outputs": [],
   "source": [
    "df_cleaned = df.dropna(axis=1)\n",
    "#columns"
   ]
  },
  {
   "cell_type": "code",
   "execution_count": 28,
   "id": "693689e4",
   "metadata": {},
   "outputs": [],
   "source": [
    "# Specify the columns you want to check for outliers (numerical columns)\n",
    "numerical_columns = ['PassengerId', 'Survived']\n",
    "\n",
    "# Define a function to remove outliers using IQR\n",
    "def remove_outliers_iqr(df, columns):\n",
    "    for column in columns:\n",
    "        Q1 = df[column].quantile(0.25)\n",
    "        Q3 = df[column].quantile(0.75)\n",
    "        IQR = Q3 - Q1\n",
    "        lower_bound = Q1 - 1.5 * IQR\n",
    "        upper_bound = Q3 + 1.5 * IQR\n",
    "        df = df[(df[column] >= lower_bound) & (df[column] <= upper_bound)]\n",
    "    return df\n",
    "\n",
    "# Remove outliers from the specified numerical columns\n",
    "df_cleaned_no_outliers = remove_outliers_iqr(df_cleaned, numerical_columns)\n"
   ]
  },
  {
   "cell_type": "markdown",
   "id": "3742fe97",
   "metadata": {},
   "source": [
    "2.Calculating summary statistics for the  dataset"
   ]
  },
  {
   "cell_type": "code",
   "execution_count": 30,
   "id": "c807344d",
   "metadata": {},
   "outputs": [],
   "source": [
    "means = df_cleaned_no_outliers.mean()"
   ]
  },
  {
   "cell_type": "code",
   "execution_count": 31,
   "id": "c8c66621",
   "metadata": {},
   "outputs": [],
   "source": [
    "medians = df_cleaned_no_outliers.median()"
   ]
  },
  {
   "cell_type": "code",
   "execution_count": 32,
   "id": "d5d38993",
   "metadata": {},
   "outputs": [],
   "source": [
    "modes = df_cleaned_no_outliers.mode()"
   ]
  },
  {
   "cell_type": "code",
   "execution_count": 33,
   "id": "f58cf8c5",
   "metadata": {},
   "outputs": [],
   "source": [
    "std_devs = df_cleaned_no_outliers.std()"
   ]
  },
  {
   "cell_type": "code",
   "execution_count": 34,
   "id": "bcf601cd",
   "metadata": {},
   "outputs": [
    {
     "name": "stdout",
     "output_type": "stream",
     "text": [
      "Mean:\n",
      "PassengerId    1100.500000\n",
      "Survived          0.363636\n",
      "dtype: float64\n",
      "\n",
      "Median:\n",
      "PassengerId    1100.5\n",
      "Survived          0.0\n",
      "dtype: float64\n",
      "\n",
      "Mode:\n",
      "     PassengerId  Survived\n",
      "0            892       0.0\n",
      "1            893       NaN\n",
      "2            894       NaN\n",
      "3            895       NaN\n",
      "4            896       NaN\n",
      "..           ...       ...\n",
      "413         1305       NaN\n",
      "414         1306       NaN\n",
      "415         1307       NaN\n",
      "416         1308       NaN\n",
      "417         1309       NaN\n",
      "\n",
      "[418 rows x 2 columns]\n",
      "\n",
      "Standard Deviation:\n",
      "PassengerId    120.810458\n",
      "Survived         0.481622\n",
      "dtype: float64\n"
     ]
    }
   ],
   "source": [
    "print(\"Mean:\")\n",
    "print(means)\n",
    "\n",
    "print(\"\\nMedian:\")\n",
    "print(medians)\n",
    "\n",
    "print(\"\\nMode:\")\n",
    "print(modes)\n",
    "\n",
    "print(\"\\nStandard Deviation:\")\n",
    "print(std_devs)\n"
   ]
  },
  {
   "cell_type": "markdown",
   "id": "8b264c65",
   "metadata": {},
   "source": [
    "3.Creating a histogram or bar chart to visualize the distribution of data in a dataset"
   ]
  },
  {
   "cell_type": "code",
   "execution_count": 35,
   "id": "1997bbbf",
   "metadata": {},
   "outputs": [],
   "source": [
    "import matplotlib.pyplot as plt\n",
    "import pandas as pd"
   ]
  },
  {
   "cell_type": "code",
   "execution_count": 36,
   "id": "5fc9eb3c",
   "metadata": {},
   "outputs": [
    {
     "data": {
      "text/plain": [
       "(array([266.,   0., 152.]),\n",
       " array([0.        , 0.33333333, 0.66666667, 1.        ]),\n",
       " <BarContainer object of 3 artists>)"
      ]
     },
     "execution_count": 36,
     "metadata": {},
     "output_type": "execute_result"
    },
    {
     "data": {
      "image/png": "[encoded data removed]",
      "text/plain": [
       "<Figure size 640x480 with 1 Axes>"
      ]
     },
     "metadata": {},
     "output_type": "display_data"
    }
   ],
   "source": [
    "plt.hist(df_cleaned_no_outliers['Survived'], bins=3, edgecolor='k')"
   ]
  },
  {
   "cell_type": "code",
   "execution_count": null,
   "id": "b94c59da",
   "metadata": {},
   "outputs": [],
   "source": []
  }
 ],
 "metadata": {
  "kernelspec": {
   "display_name": "Python 3 (ipykernel)",
   "language": "python",
   "name": "python3"
  },
  "language_info": {
   "codemirror_mode": {
    "name": "ipython",
    "version": 3
   },
   "file_extension": ".py",
   "mimetype": "text/x-python",
   "name": "python",
   "nbconvert_exporter": "python",
   "pygments_lexer": "ipython3",
   "version": "3.9.13"
  }
 },
 "nbformat": 4,
 "nbformat_minor": 5
}
